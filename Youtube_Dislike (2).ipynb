{
  "nbformat": 4,
  "nbformat_minor": 0,
  "metadata": {
    "colab": {
      "provenance": []
    },
    "kernelspec": {
      "name": "python3",
      "display_name": "Python 3"
    },
    "language_info": {
      "name": "python"
    }
  },
  "cells": [
    {
      "cell_type": "code",
      "execution_count": null,
      "metadata": {
        "id": "qXGWP1Mgsx_2"
      },
      "outputs": [],
      "source": [
        "import numpy as np\n",
        "import pandas as pd\n",
        "import matplotlib.pyplot as plt"
      ]
    },
    {
      "cell_type": "code",
      "source": [
        "df = pd.read_csv('/content/youtube_dislike_dataset.csv', engine='python',error_bad_lines=False)"
      ],
      "metadata": {
        "id": "WPLLnuniSZYf"
      },
      "execution_count": null,
      "outputs": []
    },
    {
      "cell_type": "markdown",
      "source": [
        "**Question 1: Import required libraries and read the provided dataset (youtube_dislike_dataset.csv) and retrieve top\n",
        "5 and bottom 5 records.**"
      ],
      "metadata": {
        "id": "uPbO0quYOklD"
      }
    },
    {
      "cell_type": "code",
      "source": [
        "df.head(5)"
      ],
      "metadata": {
        "id": "BS-HHNI20GxF",
        "colab": {
          "base_uri": "https://localhost:8080/",
          "height": 608
        },
        "outputId": "f9071ecb-7819-4576-b884-ca0489d6ea4d"
      },
      "execution_count": null,
      "outputs": [
        {
          "output_type": "execute_result",
          "data": {
            "text/plain": [
              "      video_id                                       title  \\\n",
              "0  --0bCF-iK2E        Jadon Sancho  Magical Skills & Goals   \n",
              "1  --14w5SOEUs          Migos - Avalanche (Official Video)   \n",
              "2  --40TEbZ9Is  Supporting Actress in a Comedy: 73rd Emmys   \n",
              "3  --4tfbSyYDE     JO1'YOUNG (JO1 ver.)' PERFORMANCE VIDEO   \n",
              "4  --DKkzWVh-E                Why Retaining Walls Collapse   \n",
              "\n",
              "                 channel_id          channel_title         published_at  \\\n",
              "0  UC6UL29enLNe4mqwTfAyeNuw             Bundesliga  2021-07-01 10:00:00   \n",
              "1  UCGIelM2Dj3zza3xyV3pL3WQ              MigosVEVO  2021-06-10 16:00:00   \n",
              "2  UClBKH8yZRcM4AsRjDVEdjMg     Television Academy  2021-09-20 01:03:32   \n",
              "3  UCsmXiDP8S40uBeJYxvyulmA                    JO1  2021-03-03 10:00:17   \n",
              "4  UCMOqf8ab-42UUQIdVoKwjlQ  Practical Engineering  2021-12-07 13:00:00   \n",
              "\n",
              "   view_count   likes  dislikes  comment_count  \\\n",
              "0     1048888   19515       226           1319   \n",
              "1    15352638  359277      7479          18729   \n",
              "2      925281   11212       401            831   \n",
              "3     2641597   39131       441           3745   \n",
              "4      715724   32887       367           1067   \n",
              "\n",
              "                                                tags  \\\n",
              "0  football soccer ftbol alemn Bundesliga season ...   \n",
              "1  Migos Avalanche Quality Control Music/Motown R...   \n",
              "2                                                      \n",
              "3  PRODUCE101JAPAN              JO1   TheSTAR STA...   \n",
              "4  retaining wall New Jersey highway Direct Conne...   \n",
              "\n",
              "                                         description  \\\n",
              "0  Enjoy the best skills and goals from Jadon San...   \n",
              "1  Watch the the official video for Migos - \"Aval...   \n",
              "2  Hannah Waddingham wins the Emmy for Supporting...   \n",
              "3  JO1'YOUNG (JO1 ver.)' PERFORMANCE VIDEO\\n\\n---...   \n",
              "4  One of the most important (and innocuous) part...   \n",
              "\n",
              "                                            comments  \n",
              "0  Respect to Dortmund fans,must be sad losing hi...  \n",
              "1  Migos just makes me want to live my live to th...  \n",
              "2  Hannah's energy bursts through any screen. Wel...  \n",
              "3  youngVer><  REN is really PERFECT. It's not ju...  \n",
              "4   Keep up with all my projects here: https://pr...  "
            ],
            "text/html": [
              "\n",
              "  <div id=\"df-fc9235ec-a69b-4ff2-a1a8-4e5d42700691\" class=\"colab-df-container\">\n",
              "    <div>\n",
              "<style scoped>\n",
              "    .dataframe tbody tr th:only-of-type {\n",
              "        vertical-align: middle;\n",
              "    }\n",
              "\n",
              "    .dataframe tbody tr th {\n",
              "        vertical-align: top;\n",
              "    }\n",
              "\n",
              "    .dataframe thead th {\n",
              "        text-align: right;\n",
              "    }\n",
              "</style>\n",
              "<table border=\"1\" class=\"dataframe\">\n",
              "  <thead>\n",
              "    <tr style=\"text-align: right;\">\n",
              "      <th></th>\n",
              "      <th>video_id</th>\n",
              "      <th>title</th>\n",
              "      <th>channel_id</th>\n",
              "      <th>channel_title</th>\n",
              "      <th>published_at</th>\n",
              "      <th>view_count</th>\n",
              "      <th>likes</th>\n",
              "      <th>dislikes</th>\n",
              "      <th>comment_count</th>\n",
              "      <th>tags</th>\n",
              "      <th>description</th>\n",
              "      <th>comments</th>\n",
              "    </tr>\n",
              "  </thead>\n",
              "  <tbody>\n",
              "    <tr>\n",
              "      <th>0</th>\n",
              "      <td>--0bCF-iK2E</td>\n",
              "      <td>Jadon Sancho  Magical Skills &amp; Goals</td>\n",
              "      <td>UC6UL29enLNe4mqwTfAyeNuw</td>\n",
              "      <td>Bundesliga</td>\n",
              "      <td>2021-07-01 10:00:00</td>\n",
              "      <td>1048888</td>\n",
              "      <td>19515</td>\n",
              "      <td>226</td>\n",
              "      <td>1319</td>\n",
              "      <td>football soccer ftbol alemn Bundesliga season ...</td>\n",
              "      <td>Enjoy the best skills and goals from Jadon San...</td>\n",
              "      <td>Respect to Dortmund fans,must be sad losing hi...</td>\n",
              "    </tr>\n",
              "    <tr>\n",
              "      <th>1</th>\n",
              "      <td>--14w5SOEUs</td>\n",
              "      <td>Migos - Avalanche (Official Video)</td>\n",
              "      <td>UCGIelM2Dj3zza3xyV3pL3WQ</td>\n",
              "      <td>MigosVEVO</td>\n",
              "      <td>2021-06-10 16:00:00</td>\n",
              "      <td>15352638</td>\n",
              "      <td>359277</td>\n",
              "      <td>7479</td>\n",
              "      <td>18729</td>\n",
              "      <td>Migos Avalanche Quality Control Music/Motown R...</td>\n",
              "      <td>Watch the the official video for Migos - \"Aval...</td>\n",
              "      <td>Migos just makes me want to live my live to th...</td>\n",
              "    </tr>\n",
              "    <tr>\n",
              "      <th>2</th>\n",
              "      <td>--40TEbZ9Is</td>\n",
              "      <td>Supporting Actress in a Comedy: 73rd Emmys</td>\n",
              "      <td>UClBKH8yZRcM4AsRjDVEdjMg</td>\n",
              "      <td>Television Academy</td>\n",
              "      <td>2021-09-20 01:03:32</td>\n",
              "      <td>925281</td>\n",
              "      <td>11212</td>\n",
              "      <td>401</td>\n",
              "      <td>831</td>\n",
              "      <td></td>\n",
              "      <td>Hannah Waddingham wins the Emmy for Supporting...</td>\n",
              "      <td>Hannah's energy bursts through any screen. Wel...</td>\n",
              "    </tr>\n",
              "    <tr>\n",
              "      <th>3</th>\n",
              "      <td>--4tfbSyYDE</td>\n",
              "      <td>JO1'YOUNG (JO1 ver.)' PERFORMANCE VIDEO</td>\n",
              "      <td>UCsmXiDP8S40uBeJYxvyulmA</td>\n",
              "      <td>JO1</td>\n",
              "      <td>2021-03-03 10:00:17</td>\n",
              "      <td>2641597</td>\n",
              "      <td>39131</td>\n",
              "      <td>441</td>\n",
              "      <td>3745</td>\n",
              "      <td>PRODUCE101JAPAN              JO1   TheSTAR STA...</td>\n",
              "      <td>JO1'YOUNG (JO1 ver.)' PERFORMANCE VIDEO\\n\\n---...</td>\n",
              "      <td>youngVer&gt;&lt;  REN is really PERFECT. It's not ju...</td>\n",
              "    </tr>\n",
              "    <tr>\n",
              "      <th>4</th>\n",
              "      <td>--DKkzWVh-E</td>\n",
              "      <td>Why Retaining Walls Collapse</td>\n",
              "      <td>UCMOqf8ab-42UUQIdVoKwjlQ</td>\n",
              "      <td>Practical Engineering</td>\n",
              "      <td>2021-12-07 13:00:00</td>\n",
              "      <td>715724</td>\n",
              "      <td>32887</td>\n",
              "      <td>367</td>\n",
              "      <td>1067</td>\n",
              "      <td>retaining wall New Jersey highway Direct Conne...</td>\n",
              "      <td>One of the most important (and innocuous) part...</td>\n",
              "      <td>Keep up with all my projects here: https://pr...</td>\n",
              "    </tr>\n",
              "  </tbody>\n",
              "</table>\n",
              "</div>\n",
              "    <div class=\"colab-df-buttons\">\n",
              "\n",
              "  <div class=\"colab-df-container\">\n",
              "    <button class=\"colab-df-convert\" onclick=\"convertToInteractive('df-fc9235ec-a69b-4ff2-a1a8-4e5d42700691')\"\n",
              "            title=\"Convert this dataframe to an interactive table.\"\n",
              "            style=\"display:none;\">\n",
              "\n",
              "  <svg xmlns=\"http://www.w3.org/2000/svg\" height=\"24px\" viewBox=\"0 -960 960 960\">\n",
              "    <path d=\"M120-120v-720h720v720H120Zm60-500h600v-160H180v160Zm220 220h160v-160H400v160Zm0 220h160v-160H400v160ZM180-400h160v-160H180v160Zm440 0h160v-160H620v160ZM180-180h160v-160H180v160Zm440 0h160v-160H620v160Z\"/>\n",
              "  </svg>\n",
              "    </button>\n",
              "\n",
              "  <style>\n",
              "    .colab-df-container {\n",
              "      display:flex;\n",
              "      gap: 12px;\n",
              "    }\n",
              "\n",
              "    .colab-df-convert {\n",
              "      background-color: #E8F0FE;\n",
              "      border: none;\n",
              "      border-radius: 50%;\n",
              "      cursor: pointer;\n",
              "      display: none;\n",
              "      fill: #1967D2;\n",
              "      height: 32px;\n",
              "      padding: 0 0 0 0;\n",
              "      width: 32px;\n",
              "    }\n",
              "\n",
              "    .colab-df-convert:hover {\n",
              "      background-color: #E2EBFA;\n",
              "      box-shadow: 0px 1px 2px rgba(60, 64, 67, 0.3), 0px 1px 3px 1px rgba(60, 64, 67, 0.15);\n",
              "      fill: #174EA6;\n",
              "    }\n",
              "\n",
              "    .colab-df-buttons div {\n",
              "      margin-bottom: 4px;\n",
              "    }\n",
              "\n",
              "    [theme=dark] .colab-df-convert {\n",
              "      background-color: #3B4455;\n",
              "      fill: #D2E3FC;\n",
              "    }\n",
              "\n",
              "    [theme=dark] .colab-df-convert:hover {\n",
              "      background-color: #434B5C;\n",
              "      box-shadow: 0px 1px 3px 1px rgba(0, 0, 0, 0.15);\n",
              "      filter: drop-shadow(0px 1px 2px rgba(0, 0, 0, 0.3));\n",
              "      fill: #FFFFFF;\n",
              "    }\n",
              "  </style>\n",
              "\n",
              "    <script>\n",
              "      const buttonEl =\n",
              "        document.querySelector('#df-fc9235ec-a69b-4ff2-a1a8-4e5d42700691 button.colab-df-convert');\n",
              "      buttonEl.style.display =\n",
              "        google.colab.kernel.accessAllowed ? 'block' : 'none';\n",
              "\n",
              "      async function convertToInteractive(key) {\n",
              "        const element = document.querySelector('#df-fc9235ec-a69b-4ff2-a1a8-4e5d42700691');\n",
              "        const dataTable =\n",
              "          await google.colab.kernel.invokeFunction('convertToInteractive',\n",
              "                                                    [key], {});\n",
              "        if (!dataTable) return;\n",
              "\n",
              "        const docLinkHtml = 'Like what you see? Visit the ' +\n",
              "          '<a target=\"_blank\" href=https://colab.research.google.com/notebooks/data_table.ipynb>data table notebook</a>'\n",
              "          + ' to learn more about interactive tables.';\n",
              "        element.innerHTML = '';\n",
              "        dataTable['output_type'] = 'display_data';\n",
              "        await google.colab.output.renderOutput(dataTable, element);\n",
              "        const docLink = document.createElement('div');\n",
              "        docLink.innerHTML = docLinkHtml;\n",
              "        element.appendChild(docLink);\n",
              "      }\n",
              "    </script>\n",
              "  </div>\n",
              "\n",
              "\n",
              "<div id=\"df-fceeeb9c-b178-4022-a51e-1e0412c18bad\">\n",
              "  <button class=\"colab-df-quickchart\" onclick=\"quickchart('df-fceeeb9c-b178-4022-a51e-1e0412c18bad')\"\n",
              "            title=\"Suggest charts.\"\n",
              "            style=\"display:none;\">\n",
              "\n",
              "<svg xmlns=\"http://www.w3.org/2000/svg\" height=\"24px\"viewBox=\"0 0 24 24\"\n",
              "     width=\"24px\">\n",
              "    <g>\n",
              "        <path d=\"M19 3H5c-1.1 0-2 .9-2 2v14c0 1.1.9 2 2 2h14c1.1 0 2-.9 2-2V5c0-1.1-.9-2-2-2zM9 17H7v-7h2v7zm4 0h-2V7h2v10zm4 0h-2v-4h2v4z\"/>\n",
              "    </g>\n",
              "</svg>\n",
              "  </button>\n",
              "\n",
              "<style>\n",
              "  .colab-df-quickchart {\n",
              "      --bg-color: #E8F0FE;\n",
              "      --fill-color: #1967D2;\n",
              "      --hover-bg-color: #E2EBFA;\n",
              "      --hover-fill-color: #174EA6;\n",
              "      --disabled-fill-color: #AAA;\n",
              "      --disabled-bg-color: #DDD;\n",
              "  }\n",
              "\n",
              "  [theme=dark] .colab-df-quickchart {\n",
              "      --bg-color: #3B4455;\n",
              "      --fill-color: #D2E3FC;\n",
              "      --hover-bg-color: #434B5C;\n",
              "      --hover-fill-color: #FFFFFF;\n",
              "      --disabled-bg-color: #3B4455;\n",
              "      --disabled-fill-color: #666;\n",
              "  }\n",
              "\n",
              "  .colab-df-quickchart {\n",
              "    background-color: var(--bg-color);\n",
              "    border: none;\n",
              "    border-radius: 50%;\n",
              "    cursor: pointer;\n",
              "    display: none;\n",
              "    fill: var(--fill-color);\n",
              "    height: 32px;\n",
              "    padding: 0;\n",
              "    width: 32px;\n",
              "  }\n",
              "\n",
              "  .colab-df-quickchart:hover {\n",
              "    background-color: var(--hover-bg-color);\n",
              "    box-shadow: 0 1px 2px rgba(60, 64, 67, 0.3), 0 1px 3px 1px rgba(60, 64, 67, 0.15);\n",
              "    fill: var(--button-hover-fill-color);\n",
              "  }\n",
              "\n",
              "  .colab-df-quickchart-complete:disabled,\n",
              "  .colab-df-quickchart-complete:disabled:hover {\n",
              "    background-color: var(--disabled-bg-color);\n",
              "    fill: var(--disabled-fill-color);\n",
              "    box-shadow: none;\n",
              "  }\n",
              "\n",
              "  .colab-df-spinner {\n",
              "    border: 2px solid var(--fill-color);\n",
              "    border-color: transparent;\n",
              "    border-bottom-color: var(--fill-color);\n",
              "    animation:\n",
              "      spin 1s steps(1) infinite;\n",
              "  }\n",
              "\n",
              "  @keyframes spin {\n",
              "    0% {\n",
              "      border-color: transparent;\n",
              "      border-bottom-color: var(--fill-color);\n",
              "      border-left-color: var(--fill-color);\n",
              "    }\n",
              "    20% {\n",
              "      border-color: transparent;\n",
              "      border-left-color: var(--fill-color);\n",
              "      border-top-color: var(--fill-color);\n",
              "    }\n",
              "    30% {\n",
              "      border-color: transparent;\n",
              "      border-left-color: var(--fill-color);\n",
              "      border-top-color: var(--fill-color);\n",
              "      border-right-color: var(--fill-color);\n",
              "    }\n",
              "    40% {\n",
              "      border-color: transparent;\n",
              "      border-right-color: var(--fill-color);\n",
              "      border-top-color: var(--fill-color);\n",
              "    }\n",
              "    60% {\n",
              "      border-color: transparent;\n",
              "      border-right-color: var(--fill-color);\n",
              "    }\n",
              "    80% {\n",
              "      border-color: transparent;\n",
              "      border-right-color: var(--fill-color);\n",
              "      border-bottom-color: var(--fill-color);\n",
              "    }\n",
              "    90% {\n",
              "      border-color: transparent;\n",
              "      border-bottom-color: var(--fill-color);\n",
              "    }\n",
              "  }\n",
              "</style>\n",
              "\n",
              "  <script>\n",
              "    async function quickchart(key) {\n",
              "      const quickchartButtonEl =\n",
              "        document.querySelector('#' + key + ' button');\n",
              "      quickchartButtonEl.disabled = true;  // To prevent multiple clicks.\n",
              "      quickchartButtonEl.classList.add('colab-df-spinner');\n",
              "      try {\n",
              "        const charts = await google.colab.kernel.invokeFunction(\n",
              "            'suggestCharts', [key], {});\n",
              "      } catch (error) {\n",
              "        console.error('Error during call to suggestCharts:', error);\n",
              "      }\n",
              "      quickchartButtonEl.classList.remove('colab-df-spinner');\n",
              "      quickchartButtonEl.classList.add('colab-df-quickchart-complete');\n",
              "    }\n",
              "    (() => {\n",
              "      let quickchartButtonEl =\n",
              "        document.querySelector('#df-fceeeb9c-b178-4022-a51e-1e0412c18bad button');\n",
              "      quickchartButtonEl.style.display =\n",
              "        google.colab.kernel.accessAllowed ? 'block' : 'none';\n",
              "    })();\n",
              "  </script>\n",
              "</div>\n",
              "    </div>\n",
              "  </div>\n"
            ]
          },
          "metadata": {},
          "execution_count": 43
        }
      ]
    },
    {
      "cell_type": "code",
      "source": [
        "df.tail(5)"
      ],
      "metadata": {
        "id": "kMWNGuPY0oEe",
        "colab": {
          "base_uri": "https://localhost:8080/",
          "height": 608
        },
        "outputId": "3f573db7-895b-4f29-f7d4-be5ff5fb2865"
      },
      "execution_count": null,
      "outputs": [
        {
          "output_type": "execute_result",
          "data": {
            "text/plain": [
              "          video_id                                              title  \\\n",
              "37417  zzd4ydafGR0  Lil Tjay - Calling My Phone (feat. 6LACK) [Off...   \n",
              "37418  zziBybeSAtw  PELICANS at LAKERS | FULL GAME HIGHLIGHTS | Ja...   \n",
              "37419  zzk09ESX7e0                 [MV]  (MAMAMOO) - Where Are We Now   \n",
              "37420  zzmQEb0Em5I              FELLIPE ESCUDERO- Master Podcast  #12   \n",
              "37421  zzxPZwaA-8w  Gareth Bale brace secures dramatic comeback on...   \n",
              "\n",
              "                     channel_id      channel_title         published_at  \\\n",
              "37417  UCEB4a5o_6KfjxHwNMnmj54Q           Lil Tjay  2021-02-12 05:03:49   \n",
              "37418  UCWJ2lWNubArHWmf3FIHbfcQ                NBA  2021-01-16 05:39:05   \n",
              "37419  UCuhAUMLzJxlP1W7mEk0_6lA            MAMAMOO  2021-06-02 09:00:10   \n",
              "37420  UC8NjnNWMsRqq11NYvHAQb1g     Master Podcast  2020-10-20 20:59:30   \n",
              "37421  UCEg25rdRZXg32iwai6N6l0w  Tottenham Hotspur  2021-05-23 21:00:31   \n",
              "\n",
              "       view_count    likes  dislikes  comment_count  \\\n",
              "37417   120408275  2180780     35871          81360   \n",
              "37418     2841917    20759      1049           2624   \n",
              "37419    13346678   720854      4426          90616   \n",
              "37420      252057    19198      1234           1471   \n",
              "37421     2252090    34063       868           2004   \n",
              "\n",
              "                                                    tags  \\\n",
              "37417  Lil Tjay Steady Calling My Phone Calling My Ph...   \n",
              "37418  NBA G League Basketball game-0022000187 Lakers...   \n",
              "37419  MAMAMOO  WAW  WAW MAMAMOO WAW Where Are We Now...   \n",
              "37420  master masterpodcast lord lord vinheteiro z z ...   \n",
              "37421  Spurs Tottenham Hotspur   Tottenham Leicester ...   \n",
              "\n",
              "                                             description  \\\n",
              "37417  Official video for \"Calling My Phone\" by Lil T...   \n",
              "37418  PELICANS at LAKERS | FULL GAME HIGHLIGHTS | Ja...   \n",
              "37419  [MV]  (MAMAMOO) - Where Are We Now\\n\\nInstagra...   \n",
              "37420  DOCTOR HAIR\\nhttps://www.thedoctorhair.com/?fb...   \n",
              "37421  Two minute highlights from Tottenham Hotspur's...   \n",
              "\n",
              "                                                comments  \n",
              "37417  'DESTINED 2 WIN' OUT NOW !! https://liltjay.ln...  \n",
              "37418  Montrezl Harrell is going crazy with the rebou...  \n",
              "37419  I honestly do not know why this song hit so ha...  \n",
              "37420  Foi um prazer passar esta tarde com vocs debat...  \n",
              "37421  Thank you Kane for everything you have given t...  "
            ],
            "text/html": [
              "\n",
              "  <div id=\"df-2d9fa0e6-9f5c-4bf1-8cf1-5802b8dd06bf\" class=\"colab-df-container\">\n",
              "    <div>\n",
              "<style scoped>\n",
              "    .dataframe tbody tr th:only-of-type {\n",
              "        vertical-align: middle;\n",
              "    }\n",
              "\n",
              "    .dataframe tbody tr th {\n",
              "        vertical-align: top;\n",
              "    }\n",
              "\n",
              "    .dataframe thead th {\n",
              "        text-align: right;\n",
              "    }\n",
              "</style>\n",
              "<table border=\"1\" class=\"dataframe\">\n",
              "  <thead>\n",
              "    <tr style=\"text-align: right;\">\n",
              "      <th></th>\n",
              "      <th>video_id</th>\n",
              "      <th>title</th>\n",
              "      <th>channel_id</th>\n",
              "      <th>channel_title</th>\n",
              "      <th>published_at</th>\n",
              "      <th>view_count</th>\n",
              "      <th>likes</th>\n",
              "      <th>dislikes</th>\n",
              "      <th>comment_count</th>\n",
              "      <th>tags</th>\n",
              "      <th>description</th>\n",
              "      <th>comments</th>\n",
              "    </tr>\n",
              "  </thead>\n",
              "  <tbody>\n",
              "    <tr>\n",
              "      <th>37417</th>\n",
              "      <td>zzd4ydafGR0</td>\n",
              "      <td>Lil Tjay - Calling My Phone (feat. 6LACK) [Off...</td>\n",
              "      <td>UCEB4a5o_6KfjxHwNMnmj54Q</td>\n",
              "      <td>Lil Tjay</td>\n",
              "      <td>2021-02-12 05:03:49</td>\n",
              "      <td>120408275</td>\n",
              "      <td>2180780</td>\n",
              "      <td>35871</td>\n",
              "      <td>81360</td>\n",
              "      <td>Lil Tjay Steady Calling My Phone Calling My Ph...</td>\n",
              "      <td>Official video for \"Calling My Phone\" by Lil T...</td>\n",
              "      <td>'DESTINED 2 WIN' OUT NOW !! https://liltjay.ln...</td>\n",
              "    </tr>\n",
              "    <tr>\n",
              "      <th>37418</th>\n",
              "      <td>zziBybeSAtw</td>\n",
              "      <td>PELICANS at LAKERS | FULL GAME HIGHLIGHTS | Ja...</td>\n",
              "      <td>UCWJ2lWNubArHWmf3FIHbfcQ</td>\n",
              "      <td>NBA</td>\n",
              "      <td>2021-01-16 05:39:05</td>\n",
              "      <td>2841917</td>\n",
              "      <td>20759</td>\n",
              "      <td>1049</td>\n",
              "      <td>2624</td>\n",
              "      <td>NBA G League Basketball game-0022000187 Lakers...</td>\n",
              "      <td>PELICANS at LAKERS | FULL GAME HIGHLIGHTS | Ja...</td>\n",
              "      <td>Montrezl Harrell is going crazy with the rebou...</td>\n",
              "    </tr>\n",
              "    <tr>\n",
              "      <th>37419</th>\n",
              "      <td>zzk09ESX7e0</td>\n",
              "      <td>[MV]  (MAMAMOO) - Where Are We Now</td>\n",
              "      <td>UCuhAUMLzJxlP1W7mEk0_6lA</td>\n",
              "      <td>MAMAMOO</td>\n",
              "      <td>2021-06-02 09:00:10</td>\n",
              "      <td>13346678</td>\n",
              "      <td>720854</td>\n",
              "      <td>4426</td>\n",
              "      <td>90616</td>\n",
              "      <td>MAMAMOO  WAW  WAW MAMAMOO WAW Where Are We Now...</td>\n",
              "      <td>[MV]  (MAMAMOO) - Where Are We Now\\n\\nInstagra...</td>\n",
              "      <td>I honestly do not know why this song hit so ha...</td>\n",
              "    </tr>\n",
              "    <tr>\n",
              "      <th>37420</th>\n",
              "      <td>zzmQEb0Em5I</td>\n",
              "      <td>FELLIPE ESCUDERO- Master Podcast  #12</td>\n",
              "      <td>UC8NjnNWMsRqq11NYvHAQb1g</td>\n",
              "      <td>Master Podcast</td>\n",
              "      <td>2020-10-20 20:59:30</td>\n",
              "      <td>252057</td>\n",
              "      <td>19198</td>\n",
              "      <td>1234</td>\n",
              "      <td>1471</td>\n",
              "      <td>master masterpodcast lord lord vinheteiro z z ...</td>\n",
              "      <td>DOCTOR HAIR\\nhttps://www.thedoctorhair.com/?fb...</td>\n",
              "      <td>Foi um prazer passar esta tarde com vocs debat...</td>\n",
              "    </tr>\n",
              "    <tr>\n",
              "      <th>37421</th>\n",
              "      <td>zzxPZwaA-8w</td>\n",
              "      <td>Gareth Bale brace secures dramatic comeback on...</td>\n",
              "      <td>UCEg25rdRZXg32iwai6N6l0w</td>\n",
              "      <td>Tottenham Hotspur</td>\n",
              "      <td>2021-05-23 21:00:31</td>\n",
              "      <td>2252090</td>\n",
              "      <td>34063</td>\n",
              "      <td>868</td>\n",
              "      <td>2004</td>\n",
              "      <td>Spurs Tottenham Hotspur   Tottenham Leicester ...</td>\n",
              "      <td>Two minute highlights from Tottenham Hotspur's...</td>\n",
              "      <td>Thank you Kane for everything you have given t...</td>\n",
              "    </tr>\n",
              "  </tbody>\n",
              "</table>\n",
              "</div>\n",
              "    <div class=\"colab-df-buttons\">\n",
              "\n",
              "  <div class=\"colab-df-container\">\n",
              "    <button class=\"colab-df-convert\" onclick=\"convertToInteractive('df-2d9fa0e6-9f5c-4bf1-8cf1-5802b8dd06bf')\"\n",
              "            title=\"Convert this dataframe to an interactive table.\"\n",
              "            style=\"display:none;\">\n",
              "\n",
              "  <svg xmlns=\"http://www.w3.org/2000/svg\" height=\"24px\" viewBox=\"0 -960 960 960\">\n",
              "    <path d=\"M120-120v-720h720v720H120Zm60-500h600v-160H180v160Zm220 220h160v-160H400v160Zm0 220h160v-160H400v160ZM180-400h160v-160H180v160Zm440 0h160v-160H620v160ZM180-180h160v-160H180v160Zm440 0h160v-160H620v160Z\"/>\n",
              "  </svg>\n",
              "    </button>\n",
              "\n",
              "  <style>\n",
              "    .colab-df-container {\n",
              "      display:flex;\n",
              "      gap: 12px;\n",
              "    }\n",
              "\n",
              "    .colab-df-convert {\n",
              "      background-color: #E8F0FE;\n",
              "      border: none;\n",
              "      border-radius: 50%;\n",
              "      cursor: pointer;\n",
              "      display: none;\n",
              "      fill: #1967D2;\n",
              "      height: 32px;\n",
              "      padding: 0 0 0 0;\n",
              "      width: 32px;\n",
              "    }\n",
              "\n",
              "    .colab-df-convert:hover {\n",
              "      background-color: #E2EBFA;\n",
              "      box-shadow: 0px 1px 2px rgba(60, 64, 67, 0.3), 0px 1px 3px 1px rgba(60, 64, 67, 0.15);\n",
              "      fill: #174EA6;\n",
              "    }\n",
              "\n",
              "    .colab-df-buttons div {\n",
              "      margin-bottom: 4px;\n",
              "    }\n",
              "\n",
              "    [theme=dark] .colab-df-convert {\n",
              "      background-color: #3B4455;\n",
              "      fill: #D2E3FC;\n",
              "    }\n",
              "\n",
              "    [theme=dark] .colab-df-convert:hover {\n",
              "      background-color: #434B5C;\n",
              "      box-shadow: 0px 1px 3px 1px rgba(0, 0, 0, 0.15);\n",
              "      filter: drop-shadow(0px 1px 2px rgba(0, 0, 0, 0.3));\n",
              "      fill: #FFFFFF;\n",
              "    }\n",
              "  </style>\n",
              "\n",
              "    <script>\n",
              "      const buttonEl =\n",
              "        document.querySelector('#df-2d9fa0e6-9f5c-4bf1-8cf1-5802b8dd06bf button.colab-df-convert');\n",
              "      buttonEl.style.display =\n",
              "        google.colab.kernel.accessAllowed ? 'block' : 'none';\n",
              "\n",
              "      async function convertToInteractive(key) {\n",
              "        const element = document.querySelector('#df-2d9fa0e6-9f5c-4bf1-8cf1-5802b8dd06bf');\n",
              "        const dataTable =\n",
              "          await google.colab.kernel.invokeFunction('convertToInteractive',\n",
              "                                                    [key], {});\n",
              "        if (!dataTable) return;\n",
              "\n",
              "        const docLinkHtml = 'Like what you see? Visit the ' +\n",
              "          '<a target=\"_blank\" href=https://colab.research.google.com/notebooks/data_table.ipynb>data table notebook</a>'\n",
              "          + ' to learn more about interactive tables.';\n",
              "        element.innerHTML = '';\n",
              "        dataTable['output_type'] = 'display_data';\n",
              "        await google.colab.output.renderOutput(dataTable, element);\n",
              "        const docLink = document.createElement('div');\n",
              "        docLink.innerHTML = docLinkHtml;\n",
              "        element.appendChild(docLink);\n",
              "      }\n",
              "    </script>\n",
              "  </div>\n",
              "\n",
              "\n",
              "<div id=\"df-aec4979c-7276-4f7a-9e19-b4a5395140dd\">\n",
              "  <button class=\"colab-df-quickchart\" onclick=\"quickchart('df-aec4979c-7276-4f7a-9e19-b4a5395140dd')\"\n",
              "            title=\"Suggest charts.\"\n",
              "            style=\"display:none;\">\n",
              "\n",
              "<svg xmlns=\"http://www.w3.org/2000/svg\" height=\"24px\"viewBox=\"0 0 24 24\"\n",
              "     width=\"24px\">\n",
              "    <g>\n",
              "        <path d=\"M19 3H5c-1.1 0-2 .9-2 2v14c0 1.1.9 2 2 2h14c1.1 0 2-.9 2-2V5c0-1.1-.9-2-2-2zM9 17H7v-7h2v7zm4 0h-2V7h2v10zm4 0h-2v-4h2v4z\"/>\n",
              "    </g>\n",
              "</svg>\n",
              "  </button>\n",
              "\n",
              "<style>\n",
              "  .colab-df-quickchart {\n",
              "      --bg-color: #E8F0FE;\n",
              "      --fill-color: #1967D2;\n",
              "      --hover-bg-color: #E2EBFA;\n",
              "      --hover-fill-color: #174EA6;\n",
              "      --disabled-fill-color: #AAA;\n",
              "      --disabled-bg-color: #DDD;\n",
              "  }\n",
              "\n",
              "  [theme=dark] .colab-df-quickchart {\n",
              "      --bg-color: #3B4455;\n",
              "      --fill-color: #D2E3FC;\n",
              "      --hover-bg-color: #434B5C;\n",
              "      --hover-fill-color: #FFFFFF;\n",
              "      --disabled-bg-color: #3B4455;\n",
              "      --disabled-fill-color: #666;\n",
              "  }\n",
              "\n",
              "  .colab-df-quickchart {\n",
              "    background-color: var(--bg-color);\n",
              "    border: none;\n",
              "    border-radius: 50%;\n",
              "    cursor: pointer;\n",
              "    display: none;\n",
              "    fill: var(--fill-color);\n",
              "    height: 32px;\n",
              "    padding: 0;\n",
              "    width: 32px;\n",
              "  }\n",
              "\n",
              "  .colab-df-quickchart:hover {\n",
              "    background-color: var(--hover-bg-color);\n",
              "    box-shadow: 0 1px 2px rgba(60, 64, 67, 0.3), 0 1px 3px 1px rgba(60, 64, 67, 0.15);\n",
              "    fill: var(--button-hover-fill-color);\n",
              "  }\n",
              "\n",
              "  .colab-df-quickchart-complete:disabled,\n",
              "  .colab-df-quickchart-complete:disabled:hover {\n",
              "    background-color: var(--disabled-bg-color);\n",
              "    fill: var(--disabled-fill-color);\n",
              "    box-shadow: none;\n",
              "  }\n",
              "\n",
              "  .colab-df-spinner {\n",
              "    border: 2px solid var(--fill-color);\n",
              "    border-color: transparent;\n",
              "    border-bottom-color: var(--fill-color);\n",
              "    animation:\n",
              "      spin 1s steps(1) infinite;\n",
              "  }\n",
              "\n",
              "  @keyframes spin {\n",
              "    0% {\n",
              "      border-color: transparent;\n",
              "      border-bottom-color: var(--fill-color);\n",
              "      border-left-color: var(--fill-color);\n",
              "    }\n",
              "    20% {\n",
              "      border-color: transparent;\n",
              "      border-left-color: var(--fill-color);\n",
              "      border-top-color: var(--fill-color);\n",
              "    }\n",
              "    30% {\n",
              "      border-color: transparent;\n",
              "      border-left-color: var(--fill-color);\n",
              "      border-top-color: var(--fill-color);\n",
              "      border-right-color: var(--fill-color);\n",
              "    }\n",
              "    40% {\n",
              "      border-color: transparent;\n",
              "      border-right-color: var(--fill-color);\n",
              "      border-top-color: var(--fill-color);\n",
              "    }\n",
              "    60% {\n",
              "      border-color: transparent;\n",
              "      border-right-color: var(--fill-color);\n",
              "    }\n",
              "    80% {\n",
              "      border-color: transparent;\n",
              "      border-right-color: var(--fill-color);\n",
              "      border-bottom-color: var(--fill-color);\n",
              "    }\n",
              "    90% {\n",
              "      border-color: transparent;\n",
              "      border-bottom-color: var(--fill-color);\n",
              "    }\n",
              "  }\n",
              "</style>\n",
              "\n",
              "  <script>\n",
              "    async function quickchart(key) {\n",
              "      const quickchartButtonEl =\n",
              "        document.querySelector('#' + key + ' button');\n",
              "      quickchartButtonEl.disabled = true;  // To prevent multiple clicks.\n",
              "      quickchartButtonEl.classList.add('colab-df-spinner');\n",
              "      try {\n",
              "        const charts = await google.colab.kernel.invokeFunction(\n",
              "            'suggestCharts', [key], {});\n",
              "      } catch (error) {\n",
              "        console.error('Error during call to suggestCharts:', error);\n",
              "      }\n",
              "      quickchartButtonEl.classList.remove('colab-df-spinner');\n",
              "      quickchartButtonEl.classList.add('colab-df-quickchart-complete');\n",
              "    }\n",
              "    (() => {\n",
              "      let quickchartButtonEl =\n",
              "        document.querySelector('#df-aec4979c-7276-4f7a-9e19-b4a5395140dd button');\n",
              "      quickchartButtonEl.style.display =\n",
              "        google.colab.kernel.accessAllowed ? 'block' : 'none';\n",
              "    })();\n",
              "  </script>\n",
              "</div>\n",
              "    </div>\n",
              "  </div>\n"
            ]
          },
          "metadata": {},
          "execution_count": 44
        }
      ]
    },
    {
      "cell_type": "markdown",
      "source": [
        "\n",
        "\n",
        "---\n",
        "\n"
      ],
      "metadata": {
        "id": "-NxYHCz-PG2z"
      }
    },
    {
      "cell_type": "markdown",
      "source": [
        "**Question 2: Check the info of the dataframe and write your inferences on data types and shape of the dataset.**\n"
      ],
      "metadata": {
        "id": "bFezBa4UOvLv"
      }
    },
    {
      "cell_type": "code",
      "source": [
        "df.info"
      ],
      "metadata": {
        "id": "wCgpUWls7z8S",
        "colab": {
          "base_uri": "https://localhost:8080/"
        },
        "outputId": "a03da45b-b1b8-4372-bb38-e77e244c1f6c"
      },
      "execution_count": null,
      "outputs": [
        {
          "output_type": "execute_result",
          "data": {
            "text/plain": [
              "<bound method DataFrame.info of           video_id                                              title  \\\n",
              "0      --0bCF-iK2E               Jadon Sancho  Magical Skills & Goals   \n",
              "1      --14w5SOEUs                 Migos - Avalanche (Official Video)   \n",
              "2      --40TEbZ9Is         Supporting Actress in a Comedy: 73rd Emmys   \n",
              "3      --4tfbSyYDE            JO1'YOUNG (JO1 ver.)' PERFORMANCE VIDEO   \n",
              "4      --DKkzWVh-E                       Why Retaining Walls Collapse   \n",
              "...            ...                                                ...   \n",
              "37417  zzd4ydafGR0  Lil Tjay - Calling My Phone (feat. 6LACK) [Off...   \n",
              "37418  zziBybeSAtw  PELICANS at LAKERS | FULL GAME HIGHLIGHTS | Ja...   \n",
              "37419  zzk09ESX7e0                 [MV]  (MAMAMOO) - Where Are We Now   \n",
              "37420  zzmQEb0Em5I              FELLIPE ESCUDERO- Master Podcast  #12   \n",
              "37421  zzxPZwaA-8w  Gareth Bale brace secures dramatic comeback on...   \n",
              "\n",
              "                     channel_id          channel_title         published_at  \\\n",
              "0      UC6UL29enLNe4mqwTfAyeNuw             Bundesliga  2021-07-01 10:00:00   \n",
              "1      UCGIelM2Dj3zza3xyV3pL3WQ              MigosVEVO  2021-06-10 16:00:00   \n",
              "2      UClBKH8yZRcM4AsRjDVEdjMg     Television Academy  2021-09-20 01:03:32   \n",
              "3      UCsmXiDP8S40uBeJYxvyulmA                    JO1  2021-03-03 10:00:17   \n",
              "4      UCMOqf8ab-42UUQIdVoKwjlQ  Practical Engineering  2021-12-07 13:00:00   \n",
              "...                         ...                    ...                  ...   \n",
              "37417  UCEB4a5o_6KfjxHwNMnmj54Q               Lil Tjay  2021-02-12 05:03:49   \n",
              "37418  UCWJ2lWNubArHWmf3FIHbfcQ                    NBA  2021-01-16 05:39:05   \n",
              "37419  UCuhAUMLzJxlP1W7mEk0_6lA                MAMAMOO  2021-06-02 09:00:10   \n",
              "37420  UC8NjnNWMsRqq11NYvHAQb1g         Master Podcast  2020-10-20 20:59:30   \n",
              "37421  UCEg25rdRZXg32iwai6N6l0w      Tottenham Hotspur  2021-05-23 21:00:31   \n",
              "\n",
              "       view_count    likes  dislikes  comment_count  \\\n",
              "0         1048888    19515       226           1319   \n",
              "1        15352638   359277      7479          18729   \n",
              "2          925281    11212       401            831   \n",
              "3         2641597    39131       441           3745   \n",
              "4          715724    32887       367           1067   \n",
              "...           ...      ...       ...            ...   \n",
              "37417   120408275  2180780     35871          81360   \n",
              "37418     2841917    20759      1049           2624   \n",
              "37419    13346678   720854      4426          90616   \n",
              "37420      252057    19198      1234           1471   \n",
              "37421     2252090    34063       868           2004   \n",
              "\n",
              "                                                    tags  \\\n",
              "0      football soccer ftbol alemn Bundesliga season ...   \n",
              "1      Migos Avalanche Quality Control Music/Motown R...   \n",
              "2                                                          \n",
              "3      PRODUCE101JAPAN              JO1   TheSTAR STA...   \n",
              "4      retaining wall New Jersey highway Direct Conne...   \n",
              "...                                                  ...   \n",
              "37417  Lil Tjay Steady Calling My Phone Calling My Ph...   \n",
              "37418  NBA G League Basketball game-0022000187 Lakers...   \n",
              "37419  MAMAMOO  WAW  WAW MAMAMOO WAW Where Are We Now...   \n",
              "37420  master masterpodcast lord lord vinheteiro z z ...   \n",
              "37421  Spurs Tottenham Hotspur   Tottenham Leicester ...   \n",
              "\n",
              "                                             description  \\\n",
              "0      Enjoy the best skills and goals from Jadon San...   \n",
              "1      Watch the the official video for Migos - \"Aval...   \n",
              "2      Hannah Waddingham wins the Emmy for Supporting...   \n",
              "3      JO1'YOUNG (JO1 ver.)' PERFORMANCE VIDEO\\n\\n---...   \n",
              "4      One of the most important (and innocuous) part...   \n",
              "...                                                  ...   \n",
              "37417  Official video for \"Calling My Phone\" by Lil T...   \n",
              "37418  PELICANS at LAKERS | FULL GAME HIGHLIGHTS | Ja...   \n",
              "37419  [MV]  (MAMAMOO) - Where Are We Now\\n\\nInstagra...   \n",
              "37420  DOCTOR HAIR\\nhttps://www.thedoctorhair.com/?fb...   \n",
              "37421  Two minute highlights from Tottenham Hotspur's...   \n",
              "\n",
              "                                                comments  \n",
              "0      Respect to Dortmund fans,must be sad losing hi...  \n",
              "1      Migos just makes me want to live my live to th...  \n",
              "2      Hannah's energy bursts through any screen. Wel...  \n",
              "3      youngVer><  REN is really PERFECT. It's not ju...  \n",
              "4       Keep up with all my projects here: https://pr...  \n",
              "...                                                  ...  \n",
              "37417  'DESTINED 2 WIN' OUT NOW !! https://liltjay.ln...  \n",
              "37418  Montrezl Harrell is going crazy with the rebou...  \n",
              "37419  I honestly do not know why this song hit so ha...  \n",
              "37420  Foi um prazer passar esta tarde com vocs debat...  \n",
              "37421  Thank you Kane for everything you have given t...  \n",
              "\n",
              "[37422 rows x 12 columns]>"
            ]
          },
          "metadata": {},
          "execution_count": 45
        }
      ]
    },
    {
      "cell_type": "markdown",
      "source": [
        "The above output gives information about the dataset.\n",
        "The dataset contains different datatypes like string and integer.\n",
        "\n",
        "'video_id', 'title', 'channel_id', 'channel_title', 'tags', and 'description' appear to be string (object) data types.\n",
        "\n",
        "'published_at' is of data type datetime, which indicates it contains timestamps.\n",
        "\n",
        "'view_count', 'likes', 'dislikes', 'comment_count' are numeric columns (integers).\n",
        "\n",
        "'comments' also appears to be a string (object) data type, possibly containing text comments."
      ],
      "metadata": {
        "id": "NPRb-Bb1MUUW"
      }
    },
    {
      "cell_type": "code",
      "source": [
        "df.shape"
      ],
      "metadata": {
        "id": "fgocAgop7330",
        "colab": {
          "base_uri": "https://localhost:8080/"
        },
        "outputId": "c8cde5d4-a6ed-4719-e2a3-ac0b225c7a5a"
      },
      "execution_count": null,
      "outputs": [
        {
          "output_type": "execute_result",
          "data": {
            "text/plain": [
              "(37422, 12)"
            ]
          },
          "metadata": {},
          "execution_count": 46
        }
      ]
    },
    {
      "cell_type": "markdown",
      "source": [
        "The above gives the shape of data.\n",
        "The dataset contains 37422 entries and 11 features"
      ],
      "metadata": {
        "id": "gKXMSFThNmM_"
      }
    },
    {
      "cell_type": "markdown",
      "source": [
        "\n",
        "\n",
        "---\n",
        "\n"
      ],
      "metadata": {
        "id": "AmRMZvf1PBF7"
      }
    },
    {
      "cell_type": "markdown",
      "source": [
        "**Question 3:  Check for the Percentage of the missing values and drop or impute them.**\n"
      ],
      "metadata": {
        "id": "oaQr9vMhPJ4v"
      }
    },
    {
      "cell_type": "code",
      "source": [
        "df.isna().sum()"
      ],
      "metadata": {
        "id": "6GNqYU1p8AKL",
        "colab": {
          "base_uri": "https://localhost:8080/"
        },
        "outputId": "3f6bea49-0c92-4d9a-8c27-91412bfccb13"
      },
      "execution_count": null,
      "outputs": [
        {
          "output_type": "execute_result",
          "data": {
            "text/plain": [
              "video_id           0\n",
              "title              0\n",
              "channel_id         0\n",
              "channel_title      0\n",
              "published_at       0\n",
              "view_count         0\n",
              "likes              0\n",
              "dislikes           0\n",
              "comment_count      0\n",
              "tags               0\n",
              "description        0\n",
              "comments         158\n",
              "dtype: int64"
            ]
          },
          "metadata": {},
          "execution_count": 47
        }
      ]
    },
    {
      "cell_type": "code",
      "source": [
        "missing_data = df.isna().sum()\n",
        "\n",
        "missing_percentage = (missing_data / len(df)) * 100\n",
        "\n",
        "missing_info = pd.DataFrame({'Missing Values': missing_data, 'Percentage': missing_percentage})\n",
        "print(missing_info)\n",
        "\n",
        "# Impute missing values in numeric columns with the mean\n",
        "numeric_columns = df.select_dtypes(include=['number'])\n",
        "df[numeric_columns.columns] = df[numeric_columns.columns].fillna(df.mean())\n"
      ],
      "metadata": {
        "id": "IiHuUt_kP8me",
        "colab": {
          "base_uri": "https://localhost:8080/"
        },
        "outputId": "7446d63e-7f18-4743-e9ca-9280cb0f9f41"
      },
      "execution_count": null,
      "outputs": [
        {
          "output_type": "stream",
          "name": "stdout",
          "text": [
            "               Missing Values  Percentage\n",
            "video_id                    0    0.000000\n",
            "title                       0    0.000000\n",
            "channel_id                  0    0.000000\n",
            "channel_title               0    0.000000\n",
            "published_at                0    0.000000\n",
            "view_count                  0    0.000000\n",
            "likes                       0    0.000000\n",
            "dislikes                    0    0.000000\n",
            "comment_count               0    0.000000\n",
            "tags                        0    0.000000\n",
            "description                 0    0.000000\n",
            "comments                  158    0.422212\n"
          ]
        },
        {
          "output_type": "stream",
          "name": "stderr",
          "text": [
            "<ipython-input-48-abed6e6e20c7>:10: FutureWarning: The default value of numeric_only in DataFrame.mean is deprecated. In a future version, it will default to False. In addition, specifying 'numeric_only=None' is deprecated. Select only valid columns or specify the value of numeric_only to silence this warning.\n",
            "  df[numeric_columns.columns] = df[numeric_columns.columns].fillna(df.mean())\n"
          ]
        }
      ]
    },
    {
      "cell_type": "markdown",
      "source": [
        "\n",
        "\n",
        "---\n",
        "\n"
      ],
      "metadata": {
        "id": "n34EdKo4cLjJ"
      }
    },
    {
      "cell_type": "markdown",
      "source": [
        "**Question 4: Check the statistical summary of both numerical and categorical columns and write your inferences.**"
      ],
      "metadata": {
        "id": "UZR4ypuUQxPi"
      }
    },
    {
      "cell_type": "code",
      "source": [
        "numerical_summary = df.describe()\n",
        "\n",
        "categorical_summary = df.describe(include='all')\n",
        "\n",
        "print(\"Numerical Summary:\")\n",
        "print(numerical_summary)\n",
        "\n",
        "print(\"\\nCategorical Summary:\")\n",
        "print(categorical_summary)"
      ],
      "metadata": {
        "id": "m2VZXz7jRTkr",
        "colab": {
          "base_uri": "https://localhost:8080/"
        },
        "outputId": "85418d61-facc-4bcf-b90f-b877f999e8f5"
      },
      "execution_count": null,
      "outputs": [
        {
          "output_type": "stream",
          "name": "stdout",
          "text": [
            "Numerical Summary:\n",
            "         view_count         likes      dislikes  comment_count\n",
            "count  3.742200e+04  3.742200e+04  3.742200e+04   3.742200e+04\n",
            "mean   5.697838e+06  1.668147e+05  4.989862e+03   9.924930e+03\n",
            "std    2.426622e+07  5.375670e+05  3.070824e+04   1.171003e+05\n",
            "min    2.036800e+04  0.000000e+00  0.000000e+00   0.000000e+00\n",
            "25%    5.122970e+05  1.323350e+04  2.810000e+02   9.000000e+02\n",
            "50%    1.319078e+06  4.233050e+04  7.960000e+02   2.328000e+03\n",
            "75%    3.670231e+06  1.304698e+05  2.461750e+03   6.184000e+03\n",
            "max    1.322797e+09  3.183768e+07  2.397733e+06   1.607103e+07\n",
            "\n",
            "Categorical Summary:\n",
            "           video_id  title                channel_id        channel_title  \\\n",
            "count         37422  37422                     37422                37422   \n",
            "unique        37422  37113                     10961                10883   \n",
            "top     --0bCF-iK2E    www  UCNAf1k0yIjyGu3k9BwAg3lg  Sky Sports Football   \n",
            "freq              1     21                       533                  533   \n",
            "mean            NaN    NaN                       NaN                  NaN   \n",
            "std             NaN    NaN                       NaN                  NaN   \n",
            "min             NaN    NaN                       NaN                  NaN   \n",
            "25%             NaN    NaN                       NaN                  NaN   \n",
            "50%             NaN    NaN                       NaN                  NaN   \n",
            "75%             NaN    NaN                       NaN                  NaN   \n",
            "max             NaN    NaN                       NaN                  NaN   \n",
            "\n",
            "               published_at    view_count         likes      dislikes  \\\n",
            "count                 37422  3.742200e+04  3.742200e+04  3.742200e+04   \n",
            "unique                36772           NaN           NaN           NaN   \n",
            "top     2020-10-16 04:00:10           NaN           NaN           NaN   \n",
            "freq                      6           NaN           NaN           NaN   \n",
            "mean                    NaN  5.697838e+06  1.668147e+05  4.989862e+03   \n",
            "std                     NaN  2.426622e+07  5.375670e+05  3.070824e+04   \n",
            "min                     NaN  2.036800e+04  0.000000e+00  0.000000e+00   \n",
            "25%                     NaN  5.122970e+05  1.323350e+04  2.810000e+02   \n",
            "50%                     NaN  1.319078e+06  4.233050e+04  7.960000e+02   \n",
            "75%                     NaN  3.670231e+06  1.304698e+05  2.461750e+03   \n",
            "max                     NaN  1.322797e+09  3.183768e+07  2.397733e+06   \n",
            "\n",
            "        comment_count   tags description  \\\n",
            "count    3.742200e+04  37422       37422   \n",
            "unique            NaN  28799       35630   \n",
            "top               NaN                      \n",
            "freq              NaN   3817         589   \n",
            "mean     9.924930e+03    NaN         NaN   \n",
            "std      1.171003e+05    NaN         NaN   \n",
            "min      0.000000e+00    NaN         NaN   \n",
            "25%      9.000000e+02    NaN         NaN   \n",
            "50%      2.328000e+03    NaN         NaN   \n",
            "75%      6.184000e+03    NaN         NaN   \n",
            "max      1.607103e+07    NaN         NaN   \n",
            "\n",
            "                                                 comments  \n",
            "count                                               37264  \n",
            "unique                                              37264  \n",
            "top     Respect to Dortmund fans,must be sad losing hi...  \n",
            "freq                                                    1  \n",
            "mean                                                  NaN  \n",
            "std                                                   NaN  \n",
            "min                                                   NaN  \n",
            "25%                                                   NaN  \n",
            "50%                                                   NaN  \n",
            "75%                                                   NaN  \n",
            "max                                                   NaN  \n"
          ]
        }
      ]
    },
    {
      "cell_type": "markdown",
      "source": [
        "1] You can see statistics like mean, standard deviation, minimum, maximum, and quartiles for numerical columns (like \"view_count,\" \"likes,\" \"dislikes,\" and \"comment_count\"). These statistics give insights on the data's distribution and variability."
      ],
      "metadata": {
        "id": "rYR4FLct7KLs"
      }
    },
    {
      "cell_type": "markdown",
      "source": [
        "2] For categorical columns (such \"video_id,\" \"title,\" \"channel_id,\" \"channel_title,\" tags,\"description,\" and \"comments,\" for example), you may see the count, the number of unique values, the top value, and the frequency of the top value. The diversity and most prevalent values in categorical data are explained by these statistics."
      ],
      "metadata": {
        "id": "ak6gFDWss0_f"
      }
    },
    {
      "cell_type": "markdown",
      "source": [
        "\n",
        "\n",
        "---\n",
        "\n"
      ],
      "metadata": {
        "id": "F14kUwUycO1n"
      }
    },
    {
      "cell_type": "markdown",
      "source": [
        "**Question 5:  Convert datatype of column published_at from object to pandas datetime.**\n"
      ],
      "metadata": {
        "id": "V07ku3ID8Lj_"
      }
    },
    {
      "cell_type": "code",
      "source": [
        "# Split the 'published_at' column into date and time components\n",
        "date_column = []\n",
        "time_column = []\n",
        "\n",
        "for datetime_str in df['published_at']:\n",
        "    date_str, time_str = datetime_str.split(' ')\n",
        "    date_column.append(date_str)\n",
        "    time_column.append(time_str)\n",
        "\n",
        "# Create new date and time columns\n",
        "df['publish_date'] = date_column\n",
        "df['publish_time'] = time_column\n",
        "\n",
        "# Convert the 'publish_date' and 'publish_time' columns to datetime\n",
        "df['publish_date'] = pd.to_datetime(df['publish_date'])\n",
        "df['publish_time'] = pd.to_datetime(df['publish_time'])\n",
        "print (df)"
      ],
      "metadata": {
        "colab": {
          "base_uri": "https://localhost:8080/"
        },
        "id": "u9tqNgXJ7Kug",
        "outputId": "c6c718b4-c21a-4748-ebb1-2fac5beb42a8"
      },
      "execution_count": null,
      "outputs": [
        {
          "output_type": "stream",
          "name": "stdout",
          "text": [
            "          video_id                                              title  \\\n",
            "0      --0bCF-iK2E               Jadon Sancho  Magical Skills & Goals   \n",
            "1      --14w5SOEUs                 Migos - Avalanche (Official Video)   \n",
            "2      --40TEbZ9Is         Supporting Actress in a Comedy: 73rd Emmys   \n",
            "3      --4tfbSyYDE            JO1'YOUNG (JO1 ver.)' PERFORMANCE VIDEO   \n",
            "4      --DKkzWVh-E                       Why Retaining Walls Collapse   \n",
            "...            ...                                                ...   \n",
            "37417  zzd4ydafGR0  Lil Tjay - Calling My Phone (feat. 6LACK) [Off...   \n",
            "37418  zziBybeSAtw  PELICANS at LAKERS | FULL GAME HIGHLIGHTS | Ja...   \n",
            "37419  zzk09ESX7e0                 [MV]  (MAMAMOO) - Where Are We Now   \n",
            "37420  zzmQEb0Em5I              FELLIPE ESCUDERO- Master Podcast  #12   \n",
            "37421  zzxPZwaA-8w  Gareth Bale brace secures dramatic comeback on...   \n",
            "\n",
            "                     channel_id          channel_title         published_at  \\\n",
            "0      UC6UL29enLNe4mqwTfAyeNuw             Bundesliga  2021-07-01 10:00:00   \n",
            "1      UCGIelM2Dj3zza3xyV3pL3WQ              MigosVEVO  2021-06-10 16:00:00   \n",
            "2      UClBKH8yZRcM4AsRjDVEdjMg     Television Academy  2021-09-20 01:03:32   \n",
            "3      UCsmXiDP8S40uBeJYxvyulmA                    JO1  2021-03-03 10:00:17   \n",
            "4      UCMOqf8ab-42UUQIdVoKwjlQ  Practical Engineering  2021-12-07 13:00:00   \n",
            "...                         ...                    ...                  ...   \n",
            "37417  UCEB4a5o_6KfjxHwNMnmj54Q               Lil Tjay  2021-02-12 05:03:49   \n",
            "37418  UCWJ2lWNubArHWmf3FIHbfcQ                    NBA  2021-01-16 05:39:05   \n",
            "37419  UCuhAUMLzJxlP1W7mEk0_6lA                MAMAMOO  2021-06-02 09:00:10   \n",
            "37420  UC8NjnNWMsRqq11NYvHAQb1g         Master Podcast  2020-10-20 20:59:30   \n",
            "37421  UCEg25rdRZXg32iwai6N6l0w      Tottenham Hotspur  2021-05-23 21:00:31   \n",
            "\n",
            "       view_count    likes  dislikes  comment_count  \\\n",
            "0         1048888    19515       226           1319   \n",
            "1        15352638   359277      7479          18729   \n",
            "2          925281    11212       401            831   \n",
            "3         2641597    39131       441           3745   \n",
            "4          715724    32887       367           1067   \n",
            "...           ...      ...       ...            ...   \n",
            "37417   120408275  2180780     35871          81360   \n",
            "37418     2841917    20759      1049           2624   \n",
            "37419    13346678   720854      4426          90616   \n",
            "37420      252057    19198      1234           1471   \n",
            "37421     2252090    34063       868           2004   \n",
            "\n",
            "                                                    tags  \\\n",
            "0      football soccer ftbol alemn Bundesliga season ...   \n",
            "1      Migos Avalanche Quality Control Music/Motown R...   \n",
            "2                                                          \n",
            "3      PRODUCE101JAPAN              JO1   TheSTAR STA...   \n",
            "4      retaining wall New Jersey highway Direct Conne...   \n",
            "...                                                  ...   \n",
            "37417  Lil Tjay Steady Calling My Phone Calling My Ph...   \n",
            "37418  NBA G League Basketball game-0022000187 Lakers...   \n",
            "37419  MAMAMOO  WAW  WAW MAMAMOO WAW Where Are We Now...   \n",
            "37420  master masterpodcast lord lord vinheteiro z z ...   \n",
            "37421  Spurs Tottenham Hotspur   Tottenham Leicester ...   \n",
            "\n",
            "                                             description  \\\n",
            "0      Enjoy the best skills and goals from Jadon San...   \n",
            "1      Watch the the official video for Migos - \"Aval...   \n",
            "2      Hannah Waddingham wins the Emmy for Supporting...   \n",
            "3      JO1'YOUNG (JO1 ver.)' PERFORMANCE VIDEO\\n\\n---...   \n",
            "4      One of the most important (and innocuous) part...   \n",
            "...                                                  ...   \n",
            "37417  Official video for \"Calling My Phone\" by Lil T...   \n",
            "37418  PELICANS at LAKERS | FULL GAME HIGHLIGHTS | Ja...   \n",
            "37419  [MV]  (MAMAMOO) - Where Are We Now\\n\\nInstagra...   \n",
            "37420  DOCTOR HAIR\\nhttps://www.thedoctorhair.com/?fb...   \n",
            "37421  Two minute highlights from Tottenham Hotspur's...   \n",
            "\n",
            "                                                comments publish_date  \\\n",
            "0      Respect to Dortmund fans,must be sad losing hi...   2021-07-01   \n",
            "1      Migos just makes me want to live my live to th...   2021-06-10   \n",
            "2      Hannah's energy bursts through any screen. Wel...   2021-09-20   \n",
            "3      youngVer><  REN is really PERFECT. It's not ju...   2021-03-03   \n",
            "4       Keep up with all my projects here: https://pr...   2021-12-07   \n",
            "...                                                  ...          ...   \n",
            "37417  'DESTINED 2 WIN' OUT NOW !! https://liltjay.ln...   2021-02-12   \n",
            "37418  Montrezl Harrell is going crazy with the rebou...   2021-01-16   \n",
            "37419  I honestly do not know why this song hit so ha...   2021-06-02   \n",
            "37420  Foi um prazer passar esta tarde com vocs debat...   2020-10-20   \n",
            "37421  Thank you Kane for everything you have given t...   2021-05-23   \n",
            "\n",
            "             publish_time  \n",
            "0     2023-09-29 10:00:00  \n",
            "1     2023-09-29 16:00:00  \n",
            "2     2023-09-29 01:03:32  \n",
            "3     2023-09-29 10:00:17  \n",
            "4     2023-09-29 13:00:00  \n",
            "...                   ...  \n",
            "37417 2023-09-29 05:03:49  \n",
            "37418 2023-09-29 05:39:05  \n",
            "37419 2023-09-29 09:00:10  \n",
            "37420 2023-09-29 20:59:30  \n",
            "37421 2023-09-29 21:00:31  \n",
            "\n",
            "[37422 rows x 14 columns]\n"
          ]
        }
      ]
    },
    {
      "cell_type": "markdown",
      "source": [
        "\n",
        "\n",
        "---\n",
        "\n"
      ],
      "metadata": {
        "id": "FEqNz8dYcRLx"
      }
    },
    {
      "cell_type": "markdown",
      "source": [
        "**Question 6: Create a new column as 'published_month' using the column published_at (display the months only)**"
      ],
      "metadata": {
        "id": "rPyJOTcuRiIj"
      }
    },
    {
      "cell_type": "code",
      "source": [
        "df['published_at'] = pd.to_datetime(df['published_at'])\n",
        "\n",
        "df['published_month'] = df['published_at'].dt.month\n",
        "\n",
        "print(df[['published_at', 'published_month']])"
      ],
      "metadata": {
        "colab": {
          "base_uri": "https://localhost:8080/"
        },
        "id": "atNhM37XQZ2z",
        "outputId": "ff6cd771-9f71-4ff1-f7b0-c2f245e8128e"
      },
      "execution_count": null,
      "outputs": [
        {
          "output_type": "stream",
          "name": "stdout",
          "text": [
            "             published_at  published_month\n",
            "0     2021-07-01 10:00:00                7\n",
            "1     2021-06-10 16:00:00                6\n",
            "2     2021-09-20 01:03:32                9\n",
            "3     2021-03-03 10:00:17                3\n",
            "4     2021-12-07 13:00:00               12\n",
            "...                   ...              ...\n",
            "37417 2021-02-12 05:03:49                2\n",
            "37418 2021-01-16 05:39:05                1\n",
            "37419 2021-06-02 09:00:10                6\n",
            "37420 2020-10-20 20:59:30               10\n",
            "37421 2021-05-23 21:00:31                5\n",
            "\n",
            "[37422 rows x 2 columns]\n"
          ]
        }
      ]
    },
    {
      "cell_type": "code",
      "source": [
        "df.shape"
      ],
      "metadata": {
        "colab": {
          "base_uri": "https://localhost:8080/"
        },
        "id": "u4aBIrRkS6s3",
        "outputId": "cb9707aa-3520-40dd-e80a-df0f3dd998b4"
      },
      "execution_count": null,
      "outputs": [
        {
          "output_type": "execute_result",
          "data": {
            "text/plain": [
              "(37422, 15)"
            ]
          },
          "metadata": {},
          "execution_count": 52
        }
      ]
    },
    {
      "cell_type": "markdown",
      "source": [
        "\n",
        "\n",
        "---\n",
        "\n"
      ],
      "metadata": {
        "id": "cNi1Xy5-cTZc"
      }
    },
    {
      "cell_type": "markdown",
      "source": [
        "**Question 7: Replace the numbers in the column published_month as names of the months i,e., 1 as 'Jan', 2 as 'Feb'\n",
        "and so on.....**\n"
      ],
      "metadata": {
        "id": "a9gWOmuWTSVE"
      }
    },
    {
      "cell_type": "code",
      "source": [
        "month_mapping = {\n",
        "    1: 'Jan',\n",
        "    2: 'Feb',\n",
        "    3: 'Mar',\n",
        "    4: 'Apr',\n",
        "    5: 'May',\n",
        "    6: 'Jun',\n",
        "    7: 'Jul',\n",
        "    8: 'Aug',\n",
        "    9: 'Sep',\n",
        "    10: 'Oct',\n",
        "    11: 'Nov',\n",
        "    12: 'Dec'\n",
        "}\n",
        "\n",
        "df['published_month'] = df['published_month'].replace(month_mapping)\n",
        "\n",
        "print(df[['published_at', 'published_month']])\n"
      ],
      "metadata": {
        "colab": {
          "base_uri": "https://localhost:8080/"
        },
        "id": "s-F7kq56TNQw",
        "outputId": "3dee1560-c90b-45ff-9e60-a78c6f80a44d"
      },
      "execution_count": null,
      "outputs": [
        {
          "output_type": "stream",
          "name": "stdout",
          "text": [
            "             published_at published_month\n",
            "0     2021-07-01 10:00:00             Jul\n",
            "1     2021-06-10 16:00:00             Jun\n",
            "2     2021-09-20 01:03:32             Sep\n",
            "3     2021-03-03 10:00:17             Mar\n",
            "4     2021-12-07 13:00:00             Dec\n",
            "...                   ...             ...\n",
            "37417 2021-02-12 05:03:49             Feb\n",
            "37418 2021-01-16 05:39:05             Jan\n",
            "37419 2021-06-02 09:00:10             Jun\n",
            "37420 2020-10-20 20:59:30             Oct\n",
            "37421 2021-05-23 21:00:31             May\n",
            "\n",
            "[37422 rows x 2 columns]\n"
          ]
        }
      ]
    },
    {
      "cell_type": "markdown",
      "source": [
        "\n",
        "\n",
        "---\n",
        "\n"
      ],
      "metadata": {
        "id": "zPaxNqpocVfi"
      }
    },
    {
      "cell_type": "markdown",
      "source": [
        "**Question 8: Find the number of videos published each month and arrange the months in a decreasing order based on the video count.**"
      ],
      "metadata": {
        "id": "szcxf0WKUz90"
      }
    },
    {
      "cell_type": "code",
      "source": [
        "df['published_at'] = pd.to_datetime(df['published_at'])\n",
        "\n",
        "# Extract the month and year from 'published_at'\n",
        "df['published_month'] = df['published_at'].dt.strftime('%Y-%m')\n",
        "\n",
        "video_count_by_month = df['video_id'].groupby(df['published_month']).count()\n",
        "\n",
        "video_count_by_month = video_count_by_month.sort_values(ascending=False)\n",
        "\n",
        "print(video_count_by_month)"
      ],
      "metadata": {
        "colab": {
          "base_uri": "https://localhost:8080/"
        },
        "id": "Jtf4w8igUyrF",
        "outputId": "e0ed61ec-bd9c-4271-f9d7-be924d6dc7f5"
      },
      "execution_count": null,
      "outputs": [
        {
          "output_type": "stream",
          "name": "stdout",
          "text": [
            "published_month\n",
            "2021-11    2605\n",
            "2020-10    2566\n",
            "2020-09    2514\n",
            "2021-10    2425\n",
            "2021-09    2366\n",
            "2021-07    2339\n",
            "2021-06    2316\n",
            "2021-08    2271\n",
            "2021-03    2258\n",
            "2020-11    2246\n",
            "2020-12    2220\n",
            "2021-02    2137\n",
            "2021-04    2126\n",
            "2021-01    2108\n",
            "2021-05    2081\n",
            "2020-08    1991\n",
            "2021-12     852\n",
            "2020-07       1\n",
            "Name: video_id, dtype: int64\n"
          ]
        }
      ]
    },
    {
      "cell_type": "markdown",
      "source": [
        "\n",
        "\n",
        "---\n",
        "\n"
      ],
      "metadata": {
        "id": "DC_3sjTRcXoZ"
      }
    },
    {
      "cell_type": "markdown",
      "source": [
        "**Question 9: Find the count of unique video_id, channel_id and channel_title.**"
      ],
      "metadata": {
        "id": "68zlq-fhWOLg"
      }
    },
    {
      "cell_type": "code",
      "source": [
        "unique_video_id_count = df['video_id'].nunique()\n",
        "\n",
        "unique_channel_id_count = df['channel_id'].nunique()\n",
        "\n",
        "unique_channel_title_count = df['channel_title'].nunique()\n",
        "\n",
        "print(\"Count of unique video_id:\", unique_video_id_count)\n",
        "print(\"Count of unique channel_id:\", unique_channel_id_count)\n",
        "print(\"Count of unique channel_title:\", unique_channel_title_count)"
      ],
      "metadata": {
        "colab": {
          "base_uri": "https://localhost:8080/"
        },
        "id": "2Puu9nt8V5OR",
        "outputId": "8dcadf9e-3a51-4f4f-8f55-8d1bf0422387"
      },
      "execution_count": null,
      "outputs": [
        {
          "output_type": "stream",
          "name": "stdout",
          "text": [
            "Count of unique video_id: 37422\n",
            "Count of unique channel_id: 10961\n",
            "Count of unique channel_title: 10883\n"
          ]
        }
      ]
    },
    {
      "cell_type": "markdown",
      "source": [
        "\n",
        "\n",
        "---\n",
        "\n"
      ],
      "metadata": {
        "id": "2RkoAoG4cZcL"
      }
    },
    {
      "cell_type": "markdown",
      "source": [
        "**Question 10:  Find the top10 channel names having the highest number of videos in the dataset and the bottom10\n",
        "having lowest number of videos.**"
      ],
      "metadata": {
        "id": "NCEa3Y6HXKNj"
      }
    },
    {
      "cell_type": "code",
      "source": [
        "channel_video_counts = df['video_id'].groupby(df['channel_title']).count()\n",
        "\n",
        "top_10_channels = channel_video_counts.sort_values(ascending=False).head(10)\n",
        "\n",
        "bottom_10_channels = channel_video_counts.sort_values(ascending=True).head(10)\n",
        "\n",
        "print(\"Top 10 channels with the highest number of videos:\")\n",
        "print(top_10_channels)\n",
        "\n",
        "print(\"\\nBottom 10 channels with the lowest number of videos:\")\n",
        "print(bottom_10_channels)"
      ],
      "metadata": {
        "colab": {
          "base_uri": "https://localhost:8080/"
        },
        "id": "xPQ4kpJsXIyw",
        "outputId": "d44c62ed-0bf2-4f4c-8bd6-3532679b0eb8"
      },
      "execution_count": null,
      "outputs": [
        {
          "output_type": "stream",
          "name": "stdout",
          "text": [
            "Top 10 channels with the highest number of videos:\n",
            "channel_title\n",
            "Sky Sports Football    533\n",
            "The United Stand       301\n",
            "BT Sport               246\n",
            "NBA                    209\n",
            "NFL                    162\n",
            "WWE                    122\n",
            "SSSniperWolf            99\n",
            "SSundee                 98\n",
            "FORMULA 1               87\n",
            "NHL                     86\n",
            "Name: video_id, dtype: int64\n",
            "\n",
            "Bottom 10 channels with the lowest number of videos:\n",
            "channel_title\n",
            "   SilverName                   1\n",
            "Mini Muka                       1\n",
            "Mini Ladd                       1\n",
            "MindYourLogic                   1\n",
            "Mind Body Tonic With Dr Sita    1\n",
            "Mimi Ar                         1\n",
            "Millyz                          1\n",
            "Milkair                         1\n",
            "Milissa Grande                  1\n",
            "MikuruSong                      1\n",
            "Name: video_id, dtype: int64\n"
          ]
        }
      ]
    },
    {
      "cell_type": "markdown",
      "source": [
        "\n",
        "\n",
        "---\n",
        "\n"
      ],
      "metadata": {
        "id": "ROo1DYNIcjPo"
      }
    },
    {
      "cell_type": "markdown",
      "source": [
        "**Question 11:  Find the title of the video which has the maximum number of likes and the title of the video having\n",
        "minimum likes and write your inferences.**"
      ],
      "metadata": {
        "id": "TlEqdSMGckxV"
      }
    },
    {
      "cell_type": "code",
      "source": [
        "max_likes_video = df[df['likes'] == df['likes'].max()]\n",
        "\n",
        "min_likes_video = df[df['likes'] == df['likes'].min()]\n",
        "\n",
        "print(\"Title of the video with the maximum number of likes:\")\n",
        "print(max_likes_video['title'].values[0])\n",
        "\n",
        "print(\"\\nTitle of the video with the minimum number of likes:\")\n",
        "print(min_likes_video['title'].values[0])"
      ],
      "metadata": {
        "colab": {
          "base_uri": "https://localhost:8080/"
        },
        "id": "EKzv9wq6aOHu",
        "outputId": "a29a2cc0-bfd5-422b-cda9-b7cb5b74c8cb"
      },
      "execution_count": null,
      "outputs": [
        {
          "output_type": "stream",
          "name": "stdout",
          "text": [
            "Title of the video with the maximum number of likes:\n",
            "BTS () 'Dynamite' Official MV\n",
            "\n",
            "Title of the video with the minimum number of likes:\n",
            "Kim Kardashian's Must-See Moments on \"Saturday Night Live\" | E! News\n"
          ]
        }
      ]
    },
    {
      "cell_type": "markdown",
      "source": [
        "Title of video video displayed with maximum likes show that this particular video gained the maximum level of positive engagement from the viewers and videos with minimum likes shwos that it may not have been as popular or positively received by viewers compared to other videos."
      ],
      "metadata": {
        "id": "Z4cG0r26tvjf"
      }
    },
    {
      "cell_type": "markdown",
      "source": [
        "\n",
        "\n",
        "---\n",
        "\n"
      ],
      "metadata": {
        "id": "1pYXHnS3dXI_"
      }
    },
    {
      "cell_type": "markdown",
      "source": [
        "**Question 12: Find the title of the video which has the maximum number of dislikes and the title of the video having minimum dislikes and write your inferences.**"
      ],
      "metadata": {
        "id": "QMDIoYsNdYqh"
      }
    },
    {
      "cell_type": "code",
      "source": [
        "max_dislikes_video = df[df['dislikes'] == df['dislikes'].max()]\n",
        "\n",
        "min_dislikes_video = df[df['dislikes'] == df['dislikes'].min()]\n",
        "\n",
        "print(\"Title of the video with the maximum number of dislikes:\")\n",
        "print(max_dislikes_video['title'].values[0])\n",
        "\n",
        "print(\"\\nTitle of the video with the minimum number of dislikes:\")\n",
        "print(min_dislikes_video['title'].values[0])"
      ],
      "metadata": {
        "colab": {
          "base_uri": "https://localhost:8080/"
        },
        "id": "-fLRjLqpc2WV",
        "outputId": "93febf7c-8fd9-488d-a259-dac6d8781a01"
      },
      "execution_count": null,
      "outputs": [
        {
          "output_type": "stream",
          "name": "stdout",
          "text": [
            "Title of the video with the maximum number of dislikes:\n",
            "Cuties | Official Trailer | Netflix\n",
            "\n",
            "Title of the video with the minimum number of dislikes:\n",
            "Kim Kardashian's Must-See Moments on \"Saturday Night Live\" | E! News\n"
          ]
        }
      ]
    },
    {
      "cell_type": "markdown",
      "source": [
        "The title of the video with the maximum number of dislikes displayed suggests that this video has received the highest level of negative engagement or criticism from viewers and the title of the video with the minimum number of dislikes displayed shows that this video has received the least number of dislikes among all the videos in the dataset, suggesting it may have been relatively well-received or generated less negative feedback compared to other videos."
      ],
      "metadata": {
        "id": "AIjl1mFMuvDb"
      }
    },
    {
      "cell_type": "markdown",
      "source": [
        "\n",
        "\n",
        "---\n",
        "\n"
      ],
      "metadata": {
        "id": "HUj_vmn9d1aS"
      }
    },
    {
      "cell_type": "markdown",
      "source": [
        "**Question 13: Does the number of views have any effect on how many people disliked the video? Support your answer with a metric and a plot.**"
      ],
      "metadata": {
        "id": "Lvo_2Csyd3EP"
      }
    },
    {
      "cell_type": "code",
      "source": [
        "\n",
        "\n",
        "# Calculate the dislike ratio (dislikes/views)\n",
        "df['dislike_ratio'] = df['dislikes'] / df['view_count']\n",
        "\n",
        "plt.figure(figsize=(10, 6))\n",
        "plt.scatter(df['view_count'], df['dislikes'], alpha=0.5)\n",
        "plt.title('Relationship Between Views and Dislikes')\n",
        "plt.xlabel('View Count')\n",
        "plt.ylabel('Dislikes')\n",
        "plt.grid(True)\n",
        "plt.show()"
      ],
      "metadata": {
        "colab": {
          "base_uri": "https://localhost:8080/",
          "height": 564
        },
        "id": "QG_KzvrAdxG7",
        "outputId": "9bdb3ec8-8bc7-419a-ba1e-49eb8c8af5a0"
      },
      "execution_count": null,
      "outputs": [
        {
          "output_type": "display_data",
          "data": {
            "text/plain": [
              "<Figure size 1000x600 with 1 Axes>"
            ],
            "image/png": "[encoded data removed]"
          },
          "metadata": {}
        }
      ]
    },
    {
      "cell_type": "markdown",
      "source": [
        "\n",
        "\n",
        "---\n",
        "\n"
      ],
      "metadata": {
        "id": "8tiHa8CZePHg"
      }
    },
    {
      "cell_type": "markdown",
      "source": [
        "**Question 14: Display all the information about the videos that were published in January, and mention the count of videos that were published in January**"
      ],
      "metadata": {
        "id": "4Sn5HMT-eQuK"
      }
    },
    {
      "cell_type": "code",
      "source": [
        "january_videos = df[df['published_month'] == 'Jan']\n",
        "\n",
        "print(\"Information about videos published in January:\")\n",
        "print(january_videos)\n",
        "\n",
        "january_video_count = january_videos.shape[0]\n",
        "print(\"\\nCount of videos published in January:\", january_video_count)"
      ],
      "metadata": {
        "colab": {
          "base_uri": "https://localhost:8080/"
        },
        "id": "Bi3Ny9taeNF3",
        "outputId": "e287bd60-2abd-40e3-9176-b3f0bcfdb607"
      },
      "execution_count": null,
      "outputs": [
        {
          "output_type": "stream",
          "name": "stdout",
          "text": [
            "Information about videos published in January:\n",
            "Empty DataFrame\n",
            "Columns: [video_id, title, channel_id, channel_title, published_at, view_count, likes, dislikes, comment_count, tags, description, comments, publish_date, publish_time, published_month, dislike_ratio]\n",
            "Index: []\n",
            "\n",
            "Count of videos published in January: 0\n"
          ]
        }
      ]
    }
  ]
}